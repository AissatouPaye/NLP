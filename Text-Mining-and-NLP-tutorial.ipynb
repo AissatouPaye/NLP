{
 "cells": [
  {
   "cell_type": "code",
   "execution_count": 2,
   "metadata": {},
   "outputs": [],
   "source": [
    "import os\n",
    "import nltk\n",
    "import nltk.corpus"
   ]
  },
  {
   "cell_type": "code",
   "execution_count": 5,
   "metadata": {},
   "outputs": [
    {
     "name": "stdout",
     "output_type": "stream",
     "text": [
      "['chat80', 'dependency_treebank.zip', 'shakespeare.zip', 'abc', 'swadesh', 'nps_chat.zip', 'verbnet3.zip', 'nombank.1.0.zip', 'indian.zip', 'abc.zip', 'twitter_samples.zip', 'nonbreaking_prefixes.zip', 'state_union', 'twitter_samples', 'omw', 'comparative_sentences.zip', 'webtext', 'qc.zip', 'semcor.zip', 'product_reviews_2.zip', 'verbnet', 'gutenberg.zip', 'verbnet3', 'europarl_raw', 'ppattach.zip', 'dolch', 'framenet_v17', 'pil', 'pros_cons', 'qc', 'pil.zip', 'shakespeare', 'sentence_polarity', 'lin_thesaurus.zip', 'genesis.zip', 'pl196x', 'dolch.zip', 'sentiwordnet', 'wordnet', 'ptb.zip', 'names.zip', 'cess_cat.zip', 'cess_esp', 'treebank', 'words.zip', 'mac_morpho', 'treebank.zip', 'state_union.zip', 'subjectivity.zip', 'nonbreaking_prefixes', 'wordnet.zip', 'ppattach', 'names', 'product_reviews_2', 'sentence_polarity.zip', 'rte', 'brown_tei', 'inaugural', 'floresta.zip', 'brown.zip', 'chat80.zip', 'crubadan.zip', 'brown', 'reuters.zip', 'cmudict.zip', 'cess_cat', 'alpino', 'conll2000', 'jeita.zip', 'conll2002.zip', 'conll2002', 'mte_teip5.zip', 'product_reviews_1.zip', 'wordnet_ic.zip', 'webtext.zip', 'machado.zip', 'udhr.zip', 'conll2000.zip', 'udhr', 'unicode_samples', 'stopwords', 'ycoe', 'ptb', 'ieer.zip', 'sinica_treebank.zip', 'sinica_treebank', 'senseval', 'toolbox', 'inaugural.zip', 'gazetteers.zip', 'switchboard', 'movie_reviews.zip', 'universal_treebanks_v20.zip', 'mac_morpho.zip', 'smultron.zip', 'alpino.zip', 'gutenberg', 'unicode_samples.zip', 'timit', 'problem_reports', 'biocreative_ppi', 'kimmo', 'ieer', 'paradigms', 'crubadan', 'verbnet.zip', 'rte.zip', 'ycoe.zip', 'wordnet_ic', 'switchboard.zip', 'omw.zip', 'problem_reports.zip', 'europarl_raw.zip', 'indian', 'lin_thesaurus', 'product_reviews_1', 'framenet_v15.zip', 'mte_teip5', 'paradigms.zip', 'smultron', 'biocreative_ppi.zip', 'propbank.zip', 'opinion_lexicon', 'udhr2.zip', 'cess_esp.zip', 'knbc.zip', 'city_database.zip', 'floresta', 'udhr2', 'swadesh.zip', 'pl196x.zip', 'pros_cons.zip', 'dependency_treebank', 'framenet_v15', 'comparative_sentences', 'timit.zip', 'cmudict', 'toolbox.zip', 'city_database', 'stopwords.zip', 'framenet_v17.zip', 'opinion_lexicon.zip', 'senseval.zip', 'masc_tagged.zip', 'nps_chat', 'brown_tei.zip', 'kimmo.zip', 'conll2007.zip', 'comtrans.zip', 'panlex_swadesh.zip', 'subjectivity', 'words', 'gazetteers', 'sentiwordnet.zip', 'movie_reviews', 'genesis']\n"
     ]
    }
   ],
   "source": [
    "print(os.listdir(nltk.data.find(\"corpora\")))"
   ]
  },
  {
   "cell_type": "code",
   "execution_count": 7,
   "metadata": {},
   "outputs": [
    {
     "data": {
      "text/plain": [
       "['austen-emma.txt',\n",
       " 'austen-persuasion.txt',\n",
       " 'austen-sense.txt',\n",
       " 'bible-kjv.txt',\n",
       " 'blake-poems.txt',\n",
       " 'bryant-stories.txt',\n",
       " 'burgess-busterbrown.txt',\n",
       " 'carroll-alice.txt',\n",
       " 'chesterton-ball.txt',\n",
       " 'chesterton-brown.txt',\n",
       " 'chesterton-thursday.txt',\n",
       " 'edgeworth-parents.txt',\n",
       " 'melville-moby_dick.txt',\n",
       " 'milton-paradise.txt',\n",
       " 'shakespeare-caesar.txt',\n",
       " 'shakespeare-hamlet.txt',\n",
       " 'shakespeare-macbeth.txt',\n",
       " 'whitman-leaves.txt']"
      ]
     },
     "execution_count": 7,
     "metadata": {},
     "output_type": "execute_result"
    }
   ],
   "source": [
    "nltk.corpus.gutenberg.fileids()"
   ]
  },
  {
   "cell_type": "code",
   "execution_count": 16,
   "metadata": {},
   "outputs": [
    {
     "data": {
      "text/plain": [
       "['[', 'The', 'Tragedie', 'of', 'Macbeth', 'by', ...]"
      ]
     },
     "execution_count": 16,
     "metadata": {},
     "output_type": "execute_result"
    }
   ],
   "source": [
    "#a document of type string\n",
    "hamlet=nltk.corpus.gutenberg.words(\"shakespeare-macbeth.txt\")\n",
    "hamlet"
   ]
  },
  {
   "cell_type": "code",
   "execution_count": 17,
   "metadata": {},
   "outputs": [
    {
     "name": "stdout",
     "output_type": "stream",
     "text": [
      "[ The Tragedie of Macbeth by William Shakespeare 1603 ] Actus Primus . Scoena Prima . Thunder and Lightning . Enter three Witches . 1 . When shall we three meet againe ? In Thunder , Lightning , or in Raine ? 2 . When the Hurley - burley ' s done , When the Battaile ' s lost , and wonne 3 . That will be ere the set of Sunne 1 . Where the place ? 2 . Vpon the Heath 3 . There to meet with Macbeth 1 . I come , Gray - Malkin All . "
     ]
    }
   ],
   "source": [
    "for word in hamlet[:100]:\n",
    "    print(word,sep=' ',end=' ')"
   ]
  },
  {
   "cell_type": "code",
   "execution_count": 18,
   "metadata": {},
   "outputs": [],
   "source": [
    "NLP=\"\"\"Natural language processing (NLP) is a subfield of computer science, information engineering, and artificial intelligence concerned with the interactions between computers and human (natural) languages, in particular how to program computers to process and analyze large amounts of natural language data.\n",
    "\n",
    "Challenges in natural language processing frequently involve speech recognition, natural language understanding, and natural language generation.   \"\"\""
   ]
  },
  {
   "cell_type": "code",
   "execution_count": 24,
   "metadata": {},
   "outputs": [],
   "source": [
    "#type(NLP)"
   ]
  },
  {
   "cell_type": "code",
   "execution_count": 23,
   "metadata": {},
   "outputs": [],
   "source": [
    "from nltk.tokenize import word_tokenize"
   ]
  },
  {
   "cell_type": "code",
   "execution_count": 28,
   "metadata": {},
   "outputs": [
    {
     "data": {
      "text/plain": [
       "68"
      ]
     },
     "execution_count": 28,
     "metadata": {},
     "output_type": "execute_result"
    }
   ],
   "source": [
    "NLP_tokens=word_tokenize(NLP)\n",
    "len(NLP_tokens)"
   ]
  },
  {
   "cell_type": "code",
   "execution_count": 32,
   "metadata": {},
   "outputs": [
    {
     "data": {
      "text/plain": [
       "FreqDist({'natural': 6, 'language': 5, ',': 5, 'and': 4, 'processing': 2, '(': 2, ')': 2, 'of': 2, 'computers': 2, 'in': 2, ...})"
      ]
     },
     "execution_count": 32,
     "metadata": {},
     "output_type": "execute_result"
    }
   ],
   "source": [
    "# determine the frequence of words\n",
    "from nltk.probability import FreqDist\n",
    "fdist=FreqDist()\n",
    "for word in NLP_tokens:\n",
    "    fdist[word.lower()] +=1\n",
    "fdist"
   ]
  },
  {
   "cell_type": "code",
   "execution_count": 34,
   "metadata": {},
   "outputs": [
    {
     "data": {
      "text/plain": [
       "[('natural', 6), ('language', 5), (',', 5), ('and', 4), ('processing', 2)]"
      ]
     },
     "execution_count": 34,
     "metadata": {},
     "output_type": "execute_result"
    }
   ],
   "source": [
    "fdist_top5=fdist.most_common(5)\n",
    "fdist_top5"
   ]
  },
  {
   "cell_type": "code",
   "execution_count": 37,
   "metadata": {},
   "outputs": [
    {
     "data": {
      "text/plain": [
       "2"
      ]
     },
     "execution_count": 37,
     "metadata": {},
     "output_type": "execute_result"
    }
   ],
   "source": [
    "## number of paragraph \n",
    "from nltk.tokenize import blankline_tokenize\n",
    "NLP_blank=blankline_tokenize(NLP)\n",
    "len(NLP_blank)"
   ]
  },
  {
   "cell_type": "code",
   "execution_count": 39,
   "metadata": {},
   "outputs": [],
   "source": [
    "#split the given document into two words, tree words or n-words\n",
    "from nltk.util import bigrams,trigrams,ngrams"
   ]
  },
  {
   "cell_type": "code",
   "execution_count": 52,
   "metadata": {},
   "outputs": [],
   "source": [
    "string=\"Given a sound clip of a person or people speaking, determine the textual representation of the speech. This is the opposite of text to speech and is one of the extremely difficult problems colloquially termed AI-complete (see above)\"\n",
    "s_tokens=nltk.word_tokenize(string)\n",
    "s_bigrams=list(nltk.bigrams(s_tokens))\n",
    "#s_bigrams"
   ]
  },
  {
   "cell_type": "code",
   "execution_count": 53,
   "metadata": {},
   "outputs": [],
   "source": [
    "s_trigrams=list(nltk.trigrams(s_tokens))\n",
    "#s_trigrams"
   ]
  },
  {
   "cell_type": "code",
   "execution_count": 55,
   "metadata": {},
   "outputs": [
    {
     "data": {
      "text/plain": [
       "[('Given', 'a', 'sound', 'clip', 'of', 'a', 'person'),\n",
       " ('a', 'sound', 'clip', 'of', 'a', 'person', 'or'),\n",
       " ('sound', 'clip', 'of', 'a', 'person', 'or', 'people'),\n",
       " ('clip', 'of', 'a', 'person', 'or', 'people', 'speaking'),\n",
       " ('of', 'a', 'person', 'or', 'people', 'speaking', ','),\n",
       " ('a', 'person', 'or', 'people', 'speaking', ',', 'determine'),\n",
       " ('person', 'or', 'people', 'speaking', ',', 'determine', 'the'),\n",
       " ('or', 'people', 'speaking', ',', 'determine', 'the', 'textual'),\n",
       " ('people', 'speaking', ',', 'determine', 'the', 'textual', 'representation'),\n",
       " ('speaking', ',', 'determine', 'the', 'textual', 'representation', 'of'),\n",
       " (',', 'determine', 'the', 'textual', 'representation', 'of', 'the'),\n",
       " ('determine', 'the', 'textual', 'representation', 'of', 'the', 'speech'),\n",
       " ('the', 'textual', 'representation', 'of', 'the', 'speech', '.'),\n",
       " ('textual', 'representation', 'of', 'the', 'speech', '.', 'This'),\n",
       " ('representation', 'of', 'the', 'speech', '.', 'This', 'is'),\n",
       " ('of', 'the', 'speech', '.', 'This', 'is', 'the'),\n",
       " ('the', 'speech', '.', 'This', 'is', 'the', 'opposite'),\n",
       " ('speech', '.', 'This', 'is', 'the', 'opposite', 'of'),\n",
       " ('.', 'This', 'is', 'the', 'opposite', 'of', 'text'),\n",
       " ('This', 'is', 'the', 'opposite', 'of', 'text', 'to'),\n",
       " ('is', 'the', 'opposite', 'of', 'text', 'to', 'speech'),\n",
       " ('the', 'opposite', 'of', 'text', 'to', 'speech', 'and'),\n",
       " ('opposite', 'of', 'text', 'to', 'speech', 'and', 'is'),\n",
       " ('of', 'text', 'to', 'speech', 'and', 'is', 'one'),\n",
       " ('text', 'to', 'speech', 'and', 'is', 'one', 'of'),\n",
       " ('to', 'speech', 'and', 'is', 'one', 'of', 'the'),\n",
       " ('speech', 'and', 'is', 'one', 'of', 'the', 'extremely'),\n",
       " ('and', 'is', 'one', 'of', 'the', 'extremely', 'difficult'),\n",
       " ('is', 'one', 'of', 'the', 'extremely', 'difficult', 'problems'),\n",
       " ('one', 'of', 'the', 'extremely', 'difficult', 'problems', 'colloquially'),\n",
       " ('of', 'the', 'extremely', 'difficult', 'problems', 'colloquially', 'termed'),\n",
       " ('the',\n",
       "  'extremely',\n",
       "  'difficult',\n",
       "  'problems',\n",
       "  'colloquially',\n",
       "  'termed',\n",
       "  'AI-complete'),\n",
       " ('extremely',\n",
       "  'difficult',\n",
       "  'problems',\n",
       "  'colloquially',\n",
       "  'termed',\n",
       "  'AI-complete',\n",
       "  '('),\n",
       " ('difficult',\n",
       "  'problems',\n",
       "  'colloquially',\n",
       "  'termed',\n",
       "  'AI-complete',\n",
       "  '(',\n",
       "  'see'),\n",
       " ('problems', 'colloquially', 'termed', 'AI-complete', '(', 'see', 'above'),\n",
       " ('colloquially', 'termed', 'AI-complete', '(', 'see', 'above', ')')]"
      ]
     },
     "execution_count": 55,
     "metadata": {},
     "output_type": "execute_result"
    }
   ],
   "source": [
    "s_Ngrams=list(nltk.ngrams(s_tokens,7))\n",
    "s_Ngrams"
   ]
  },
  {
   "cell_type": "markdown",
   "metadata": {},
   "source": [
    "## Stemming \n",
    "\n",
    "Normalized  words into its base form or root forms\n",
    "\n",
    "    PorterStemmer\n",
    "    LancasterStemmer"
   ]
  },
  {
   "cell_type": "code",
   "execution_count": 58,
   "metadata": {},
   "outputs": [],
   "source": [
    "from nltk.stem import PorterStemmer\n",
    "pst=PorterStemmer()"
   ]
  },
  {
   "cell_type": "code",
   "execution_count": 60,
   "metadata": {},
   "outputs": [
    {
     "data": {
      "text/plain": [
       "'learn'"
      ]
     },
     "execution_count": 60,
     "metadata": {},
     "output_type": "execute_result"
    }
   ],
   "source": [
    "pst.stem(\"learning\")"
   ]
  },
  {
   "cell_type": "code",
   "execution_count": 62,
   "metadata": {},
   "outputs": [
    {
     "name": "stdout",
     "output_type": "stream",
     "text": [
      "learn:learn\n",
      "learning:learn\n",
      "learner:learner\n",
      "learns:learn\n"
     ]
    }
   ],
   "source": [
    "words=[\"learn\",\"learning\",\"learner\",\"learns\"]\n",
    "for w in words:\n",
    "    print(w+ \":\" +pst.stem(w))\n",
    "    "
   ]
  },
  {
   "cell_type": "code",
   "execution_count": 65,
   "metadata": {},
   "outputs": [
    {
     "name": "stdout",
     "output_type": "stream",
     "text": [
      "learn:learn\n",
      "learning:learn\n",
      "learner:learn\n",
      "learns:learn\n"
     ]
    }
   ],
   "source": [
    "# another way with lancaterstemmer\n",
    "from nltk.stem import LancasterStemmer\n",
    "lst=LancasterStemmer()\n",
    "for w in words:\n",
    "    print(w+ \":\" +lst.stem(w))"
   ]
  },
  {
   "cell_type": "markdown",
   "metadata": {},
   "source": [
    "## Lemmatization \n",
    "\n",
    "Group together different inflected forms  of words called lemma"
   ]
  },
  {
   "cell_type": "code",
   "execution_count": 72,
   "metadata": {},
   "outputs": [],
   "source": [
    "from nltk.stem import wordnet\n",
    "from nltk.stem import WordNetLemmatizer"
   ]
  },
  {
   "cell_type": "code",
   "execution_count": 75,
   "metadata": {},
   "outputs": [
    {
     "data": {
      "text/plain": [
       "'corpus'"
      ]
     },
     "execution_count": 75,
     "metadata": {},
     "output_type": "execute_result"
    }
   ],
   "source": [
    "word_len=WordNetLemmatizer()\n",
    "word_len.lemmatize('corpora')"
   ]
  },
  {
   "cell_type": "code",
   "execution_count": 77,
   "metadata": {},
   "outputs": [
    {
     "name": "stdout",
     "output_type": "stream",
     "text": [
      "learn:learn\n",
      "learning:learning\n",
      "learner:learner\n",
      "learns:learns\n"
     ]
    }
   ],
   "source": [
    "for w in words:\n",
    "    print(w+ \":\" +word_len.lemmatize(w))"
   ]
  },
  {
   "cell_type": "code",
   "execution_count": 78,
   "metadata": {},
   "outputs": [
    {
     "data": {
      "text/plain": [
       "['i',\n",
       " 'me',\n",
       " 'my',\n",
       " 'myself',\n",
       " 'we',\n",
       " 'our',\n",
       " 'ours',\n",
       " 'ourselves',\n",
       " 'you',\n",
       " \"you're\",\n",
       " \"you've\",\n",
       " \"you'll\",\n",
       " \"you'd\",\n",
       " 'your',\n",
       " 'yours',\n",
       " 'yourself',\n",
       " 'yourselves',\n",
       " 'he',\n",
       " 'him',\n",
       " 'his',\n",
       " 'himself',\n",
       " 'she',\n",
       " \"she's\",\n",
       " 'her',\n",
       " 'hers',\n",
       " 'herself',\n",
       " 'it',\n",
       " \"it's\",\n",
       " 'its',\n",
       " 'itself',\n",
       " 'they',\n",
       " 'them',\n",
       " 'their',\n",
       " 'theirs',\n",
       " 'themselves',\n",
       " 'what',\n",
       " 'which',\n",
       " 'who',\n",
       " 'whom',\n",
       " 'this',\n",
       " 'that',\n",
       " \"that'll\",\n",
       " 'these',\n",
       " 'those',\n",
       " 'am',\n",
       " 'is',\n",
       " 'are',\n",
       " 'was',\n",
       " 'were',\n",
       " 'be',\n",
       " 'been',\n",
       " 'being',\n",
       " 'have',\n",
       " 'has',\n",
       " 'had',\n",
       " 'having',\n",
       " 'do',\n",
       " 'does',\n",
       " 'did',\n",
       " 'doing',\n",
       " 'a',\n",
       " 'an',\n",
       " 'the',\n",
       " 'and',\n",
       " 'but',\n",
       " 'if',\n",
       " 'or',\n",
       " 'because',\n",
       " 'as',\n",
       " 'until',\n",
       " 'while',\n",
       " 'of',\n",
       " 'at',\n",
       " 'by',\n",
       " 'for',\n",
       " 'with',\n",
       " 'about',\n",
       " 'against',\n",
       " 'between',\n",
       " 'into',\n",
       " 'through',\n",
       " 'during',\n",
       " 'before',\n",
       " 'after',\n",
       " 'above',\n",
       " 'below',\n",
       " 'to',\n",
       " 'from',\n",
       " 'up',\n",
       " 'down',\n",
       " 'in',\n",
       " 'out',\n",
       " 'on',\n",
       " 'off',\n",
       " 'over',\n",
       " 'under',\n",
       " 'again',\n",
       " 'further',\n",
       " 'then',\n",
       " 'once',\n",
       " 'here',\n",
       " 'there',\n",
       " 'when',\n",
       " 'where',\n",
       " 'why',\n",
       " 'how',\n",
       " 'all',\n",
       " 'any',\n",
       " 'both',\n",
       " 'each',\n",
       " 'few',\n",
       " 'more',\n",
       " 'most',\n",
       " 'other',\n",
       " 'some',\n",
       " 'such',\n",
       " 'no',\n",
       " 'nor',\n",
       " 'not',\n",
       " 'only',\n",
       " 'own',\n",
       " 'same',\n",
       " 'so',\n",
       " 'than',\n",
       " 'too',\n",
       " 'very',\n",
       " 's',\n",
       " 't',\n",
       " 'can',\n",
       " 'will',\n",
       " 'just',\n",
       " 'don',\n",
       " \"don't\",\n",
       " 'should',\n",
       " \"should've\",\n",
       " 'now',\n",
       " 'd',\n",
       " 'll',\n",
       " 'm',\n",
       " 'o',\n",
       " 're',\n",
       " 've',\n",
       " 'y',\n",
       " 'ain',\n",
       " 'aren',\n",
       " \"aren't\",\n",
       " 'couldn',\n",
       " \"couldn't\",\n",
       " 'didn',\n",
       " \"didn't\",\n",
       " 'doesn',\n",
       " \"doesn't\",\n",
       " 'hadn',\n",
       " \"hadn't\",\n",
       " 'hasn',\n",
       " \"hasn't\",\n",
       " 'haven',\n",
       " \"haven't\",\n",
       " 'isn',\n",
       " \"isn't\",\n",
       " 'ma',\n",
       " 'mightn',\n",
       " \"mightn't\",\n",
       " 'mustn',\n",
       " \"mustn't\",\n",
       " 'needn',\n",
       " \"needn't\",\n",
       " 'shan',\n",
       " \"shan't\",\n",
       " 'shouldn',\n",
       " \"shouldn't\",\n",
       " 'wasn',\n",
       " \"wasn't\",\n",
       " 'weren',\n",
       " \"weren't\",\n",
       " 'won',\n",
       " \"won't\",\n",
       " 'wouldn',\n",
       " \"wouldn't\"]"
      ]
     },
     "execution_count": 78,
     "metadata": {},
     "output_type": "execute_result"
    }
   ],
   "source": [
    "from nltk.corpus import stopwords\n",
    "stopwords.words(\"english\")"
   ]
  },
  {
   "cell_type": "code",
   "execution_count": 80,
   "metadata": {},
   "outputs": [
    {
     "data": {
      "text/plain": [
       "179"
      ]
     },
     "execution_count": 80,
     "metadata": {},
     "output_type": "execute_result"
    }
   ],
   "source": [
    "len(stopwords.words(\"english\"))"
   ]
  },
  {
   "cell_type": "code",
   "execution_count": 81,
   "metadata": {},
   "outputs": [
    {
     "data": {
      "text/plain": [
       "['au',\n",
       " 'aux',\n",
       " 'avec',\n",
       " 'ce',\n",
       " 'ces',\n",
       " 'dans',\n",
       " 'de',\n",
       " 'des',\n",
       " 'du',\n",
       " 'elle',\n",
       " 'en',\n",
       " 'et',\n",
       " 'eux',\n",
       " 'il',\n",
       " 'je',\n",
       " 'la',\n",
       " 'le',\n",
       " 'leur',\n",
       " 'lui',\n",
       " 'ma',\n",
       " 'mais',\n",
       " 'me',\n",
       " 'même',\n",
       " 'mes',\n",
       " 'moi',\n",
       " 'mon',\n",
       " 'ne',\n",
       " 'nos',\n",
       " 'notre',\n",
       " 'nous',\n",
       " 'on',\n",
       " 'ou',\n",
       " 'par',\n",
       " 'pas',\n",
       " 'pour',\n",
       " 'qu',\n",
       " 'que',\n",
       " 'qui',\n",
       " 'sa',\n",
       " 'se',\n",
       " 'ses',\n",
       " 'son',\n",
       " 'sur',\n",
       " 'ta',\n",
       " 'te',\n",
       " 'tes',\n",
       " 'toi',\n",
       " 'ton',\n",
       " 'tu',\n",
       " 'un',\n",
       " 'une',\n",
       " 'vos',\n",
       " 'votre',\n",
       " 'vous',\n",
       " 'c',\n",
       " 'd',\n",
       " 'j',\n",
       " 'l',\n",
       " 'à',\n",
       " 'm',\n",
       " 'n',\n",
       " 's',\n",
       " 't',\n",
       " 'y',\n",
       " 'été',\n",
       " 'étée',\n",
       " 'étées',\n",
       " 'étés',\n",
       " 'étant',\n",
       " 'étante',\n",
       " 'étants',\n",
       " 'étantes',\n",
       " 'suis',\n",
       " 'es',\n",
       " 'est',\n",
       " 'sommes',\n",
       " 'êtes',\n",
       " 'sont',\n",
       " 'serai',\n",
       " 'seras',\n",
       " 'sera',\n",
       " 'serons',\n",
       " 'serez',\n",
       " 'seront',\n",
       " 'serais',\n",
       " 'serait',\n",
       " 'serions',\n",
       " 'seriez',\n",
       " 'seraient',\n",
       " 'étais',\n",
       " 'était',\n",
       " 'étions',\n",
       " 'étiez',\n",
       " 'étaient',\n",
       " 'fus',\n",
       " 'fut',\n",
       " 'fûmes',\n",
       " 'fûtes',\n",
       " 'furent',\n",
       " 'sois',\n",
       " 'soit',\n",
       " 'soyons',\n",
       " 'soyez',\n",
       " 'soient',\n",
       " 'fusse',\n",
       " 'fusses',\n",
       " 'fût',\n",
       " 'fussions',\n",
       " 'fussiez',\n",
       " 'fussent',\n",
       " 'ayant',\n",
       " 'ayante',\n",
       " 'ayantes',\n",
       " 'ayants',\n",
       " 'eu',\n",
       " 'eue',\n",
       " 'eues',\n",
       " 'eus',\n",
       " 'ai',\n",
       " 'as',\n",
       " 'avons',\n",
       " 'avez',\n",
       " 'ont',\n",
       " 'aurai',\n",
       " 'auras',\n",
       " 'aura',\n",
       " 'aurons',\n",
       " 'aurez',\n",
       " 'auront',\n",
       " 'aurais',\n",
       " 'aurait',\n",
       " 'aurions',\n",
       " 'auriez',\n",
       " 'auraient',\n",
       " 'avais',\n",
       " 'avait',\n",
       " 'avions',\n",
       " 'aviez',\n",
       " 'avaient',\n",
       " 'eut',\n",
       " 'eûmes',\n",
       " 'eûtes',\n",
       " 'eurent',\n",
       " 'aie',\n",
       " 'aies',\n",
       " 'ait',\n",
       " 'ayons',\n",
       " 'ayez',\n",
       " 'aient',\n",
       " 'eusse',\n",
       " 'eusses',\n",
       " 'eût',\n",
       " 'eussions',\n",
       " 'eussiez',\n",
       " 'eussent']"
      ]
     },
     "execution_count": 81,
     "metadata": {},
     "output_type": "execute_result"
    }
   ],
   "source": [
    "stopwords.words(\"french\")"
   ]
  },
  {
   "cell_type": "code",
   "execution_count": 82,
   "metadata": {},
   "outputs": [
    {
     "data": {
      "text/plain": [
       "155"
      ]
     },
     "execution_count": 82,
     "metadata": {},
     "output_type": "execute_result"
    }
   ],
   "source": [
    "len(stopwords.words(\"french\"))"
   ]
  },
  {
   "cell_type": "code",
   "execution_count": null,
   "metadata": {},
   "outputs": [],
   "source": []
  }
 ],
 "metadata": {
  "kernelspec": {
   "display_name": "Python 3",
   "language": "python",
   "name": "python3"
  },
  "language_info": {
   "codemirror_mode": {
    "name": "ipython",
    "version": 3
   },
   "file_extension": ".py",
   "mimetype": "text/x-python",
   "name": "python",
   "nbconvert_exporter": "python",
   "pygments_lexer": "ipython3",
   "version": "3.6.5"
  }
 },
 "nbformat": 4,
 "nbformat_minor": 2
}
